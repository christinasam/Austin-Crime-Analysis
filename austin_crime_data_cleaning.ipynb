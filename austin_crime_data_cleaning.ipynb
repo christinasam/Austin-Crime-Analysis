{
 "cells": [
  {
   "cell_type": "markdown",
   "metadata": {},
   "source": [
    "# Austin Crime Data Cleaning"
   ]
  },
  {
   "cell_type": "markdown",
   "metadata": {},
   "source": [
    "The data was obtained from the [City of Austin](ftp://ftp.ci.austin.tx.us/CrimeMapData/) website. Each observation in the dataset represents a crime recorded by the police department. The CVS files for 2015 and 2014 were found empty and the file for 2013 was not available. Since the old data would not be a good representation of the current Austin experience, we will be using data from 2017 and 2016. "
   ]
  },
  {
   "cell_type": "markdown",
   "metadata": {},
   "source": [
    "# Import Libraries"
   ]
  },
  {
   "cell_type": "code",
   "execution_count": 1,
   "metadata": {
    "collapsed": true
   },
   "outputs": [],
   "source": [
    "import urllib.request\n",
    "import pandas as pd\n",
    "import matplotlib.pyplot as plt\n",
    "import seaborn as sns\n",
    "%matplotlib inline   "
   ]
  },
  {
   "cell_type": "markdown",
   "metadata": {},
   "source": [
    "# Get data"
   ]
  },
  {
   "cell_type": "markdown",
   "metadata": {},
   "source": [
    "We will get the data files from the web and save them to the local current directory:"
   ]
  },
  {
   "cell_type": "code",
   "execution_count": 2,
   "metadata": {
    "collapsed": true
   },
   "outputs": [],
   "source": [
    "import urllib.request\n",
    "url = 'ftp://ftp.ci.austin.tx.us/CrimeMapData/Incident_Extract_2017.csv'\n",
    "local_filename, headers = urllib.request.urlretrieve(url, filename='austin_crime_2017.csv')"
   ]
  },
  {
   "cell_type": "markdown",
   "metadata": {},
   "source": [
    "# Load data"
   ]
  },
  {
   "cell_type": "code",
   "execution_count": 3,
   "metadata": {
    "collapsed": true
   },
   "outputs": [],
   "source": [
    "import pandas as pd\n",
    "crime_df = pd.read_csv( 'austin_crime_2017.csv', encoding = \"cp1252\")    # loading data file from disk  "
   ]
  },
  {
   "cell_type": "code",
   "execution_count": 4,
   "metadata": {},
   "outputs": [
    {
     "name": "stdout",
     "output_type": "stream",
     "text": [
      "(172194, 8)\n"
     ]
    }
   ],
   "source": [
    "print(crime_df.shape)    # checking the sizes of the two datasets"
   ]
  },
  {
   "cell_type": "markdown",
   "metadata": {},
   "source": [
    "# Explore and clean data"
   ]
  },
  {
   "cell_type": "markdown",
   "metadata": {},
   "source": [
    "Let's explore the dataset to correct data inconsistencies and address missing values and potential outliers."
   ]
  },
  {
   "cell_type": "code",
   "execution_count": 5,
   "metadata": {},
   "outputs": [
    {
     "data": {
      "text/html": [
       "<div>\n",
       "<style>\n",
       "    .dataframe thead tr:only-child th {\n",
       "        text-align: right;\n",
       "    }\n",
       "\n",
       "    .dataframe thead th {\n",
       "        text-align: left;\n",
       "    }\n",
       "\n",
       "    .dataframe tbody tr th {\n",
       "        vertical-align: top;\n",
       "    }\n",
       "</style>\n",
       "<table border=\"1\" class=\"dataframe\">\n",
       "  <thead>\n",
       "    <tr style=\"text-align: right;\">\n",
       "      <th></th>\n",
       "      <th>Incident Report Number</th>\n",
       "      <th>Crime Type</th>\n",
       "      <th>Date</th>\n",
       "      <th>Time</th>\n",
       "      <th>LOCATION_TYPE</th>\n",
       "      <th>ADDRESS</th>\n",
       "      <th>LONGITUDE</th>\n",
       "      <th>LATITUDE</th>\n",
       "    </tr>\n",
       "  </thead>\n",
       "  <tbody>\n",
       "    <tr>\n",
       "      <th>0</th>\n",
       "      <td>20175014269</td>\n",
       "      <td>BURGLARY OF VEHICLE</td>\n",
       "      <td>2017-04-06 00:00:00</td>\n",
       "      <td>1900</td>\n",
       "      <td>NaN</td>\n",
       "      <td>6934 E BEN WHITE BLVD SVRD WB</td>\n",
       "      <td>-97.703550</td>\n",
       "      <td>30.215663</td>\n",
       "    </tr>\n",
       "    <tr>\n",
       "      <th>1</th>\n",
       "      <td>2017970280</td>\n",
       "      <td>CHECK WELFARE</td>\n",
       "      <td>2017-04-07 00:00:00</td>\n",
       "      <td>441</td>\n",
       "      <td>NaN</td>\n",
       "      <td>6808 S IH 35 SVRD SB</td>\n",
       "      <td>-97.772963</td>\n",
       "      <td>30.187946</td>\n",
       "    </tr>\n",
       "    <tr>\n",
       "      <th>2</th>\n",
       "      <td>20175014277</td>\n",
       "      <td>CRASH/LEAVING THE SCENE</td>\n",
       "      <td>2017-04-06 00:00:00</td>\n",
       "      <td>1330</td>\n",
       "      <td>NaN</td>\n",
       "      <td>9414 PARKFIELD DR</td>\n",
       "      <td>-97.706266</td>\n",
       "      <td>30.367904</td>\n",
       "    </tr>\n",
       "    <tr>\n",
       "      <th>3</th>\n",
       "      <td>2017961396</td>\n",
       "      <td>ASSAULT WITH INJURY</td>\n",
       "      <td>2017-04-03 00:00:00</td>\n",
       "      <td>2200</td>\n",
       "      <td>NaN</td>\n",
       "      <td>5305 KING HENRY DR</td>\n",
       "      <td>-97.660276</td>\n",
       "      <td>30.288873</td>\n",
       "    </tr>\n",
       "    <tr>\n",
       "      <th>4</th>\n",
       "      <td>2017970325</td>\n",
       "      <td>BURGLARY NON RESIDENCE</td>\n",
       "      <td>2017-04-06 00:00:00</td>\n",
       "      <td>2030</td>\n",
       "      <td>NaN</td>\n",
       "      <td>2005 WHELESS LN</td>\n",
       "      <td>-97.687720</td>\n",
       "      <td>30.313561</td>\n",
       "    </tr>\n",
       "  </tbody>\n",
       "</table>\n",
       "</div>"
      ],
      "text/plain": [
       "   Incident Report Number               Crime Type                 Date  Time  \\\n",
       "0             20175014269      BURGLARY OF VEHICLE  2017-04-06 00:00:00  1900   \n",
       "1              2017970280            CHECK WELFARE  2017-04-07 00:00:00   441   \n",
       "2             20175014277  CRASH/LEAVING THE SCENE  2017-04-06 00:00:00  1330   \n",
       "3              2017961396      ASSAULT WITH INJURY  2017-04-03 00:00:00  2200   \n",
       "4              2017970325   BURGLARY NON RESIDENCE  2017-04-06 00:00:00  2030   \n",
       "\n",
       "   LOCATION_TYPE                        ADDRESS  LONGITUDE   LATITUDE  \n",
       "0            NaN  6934 E BEN WHITE BLVD SVRD WB -97.703550  30.215663  \n",
       "1            NaN           6808 S IH 35 SVRD SB -97.772963  30.187946  \n",
       "2            NaN              9414 PARKFIELD DR -97.706266  30.367904  \n",
       "3            NaN             5305 KING HENRY DR -97.660276  30.288873  \n",
       "4            NaN                2005 WHELESS LN -97.687720  30.313561  "
      ]
     },
     "execution_count": 5,
     "metadata": {},
     "output_type": "execute_result"
    }
   ],
   "source": [
    "crime_df.head()"
   ]
  },
  {
   "cell_type": "code",
   "execution_count": 6,
   "metadata": {},
   "outputs": [
    {
     "name": "stdout",
     "output_type": "stream",
     "text": [
      "<class 'pandas.core.frame.DataFrame'>\n",
      "RangeIndex: 172194 entries, 0 to 172193\n",
      "Data columns (total 8 columns):\n",
      "Incident Report Number    172194 non-null int64\n",
      "Crime Type                172194 non-null object\n",
      "Date                      172194 non-null object\n",
      "Time                      172194 non-null int64\n",
      "LOCATION_TYPE             0 non-null float64\n",
      "ADDRESS                   172194 non-null object\n",
      "LONGITUDE                 171098 non-null float64\n",
      "LATITUDE                  171098 non-null float64\n",
      "dtypes: float64(3), int64(2), object(3)\n",
      "memory usage: 10.5+ MB\n"
     ]
    }
   ],
   "source": [
    "crime_df.info()"
   ]
  },
  {
   "cell_type": "markdown",
   "metadata": {},
   "source": [
    "We can see that the dataframe is not clean. The columns are labeled inconsistently. There are missing values in the Location, Longitude, and Latitude columns. The data type for the 'Crime Type' attribute should be categorical data type, and the time component in the Date column should be removed since it is not needed in this analysis.  "
   ]
  },
  {
   "cell_type": "markdown",
   "metadata": {},
   "source": [
    "### Tidying up the dataframe"
   ]
  },
  {
   "cell_type": "markdown",
   "metadata": {},
   "source": [
    "#### rename the columns:"
   ]
  },
  {
   "cell_type": "code",
   "execution_count": 7,
   "metadata": {},
   "outputs": [
    {
     "data": {
      "text/plain": [
       "Index(['IncidentReportNumber', 'CrimeType', 'Date', 'Time', 'LocationType',\n",
       "       'Address', 'Longitude', 'Latitude'],\n",
       "      dtype='object')"
      ]
     },
     "execution_count": 7,
     "metadata": {},
     "output_type": "execute_result"
    }
   ],
   "source": [
    "crime_df.rename(columns = {'Incident Report Number': 'IncidentReportNumber', \n",
    "                           'Crime Type': 'CrimeType', 'LOCATION_TYPE': 'LocationType', \n",
    "                           'ADDRESS': 'Address', \n",
    "                           'LONGITUDE': 'Longitude',\n",
    "                           'LATITUDE': 'Latitude'}, inplace=True)\n",
    "crime_df.columns"
   ]
  },
  {
   "cell_type": "markdown",
   "metadata": {},
   "source": [
    "#### Converting the CrimeType column to categorical:"
   ]
  },
  {
   "cell_type": "code",
   "execution_count": 8,
   "metadata": {},
   "outputs": [
    {
     "data": {
      "text/plain": [
       "category"
      ]
     },
     "execution_count": 8,
     "metadata": {},
     "output_type": "execute_result"
    }
   ],
   "source": [
    "crime_df['CrimeType'] = crime_df['CrimeType'].astype('category')\n",
    "crime_df['CrimeType'].dtypes"
   ]
  },
  {
   "cell_type": "markdown",
   "metadata": {},
   "source": [
    "#### Converting the Date column to datetime:"
   ]
  },
  {
   "cell_type": "code",
   "execution_count": 9,
   "metadata": {},
   "outputs": [
    {
     "data": {
      "text/plain": [
       "0   2017-04-06\n",
       "1   2017-04-07\n",
       "2   2017-04-06\n",
       "3   2017-04-03\n",
       "4   2017-04-06\n",
       "Name: Date, dtype: datetime64[ns]"
      ]
     },
     "execution_count": 9,
     "metadata": {},
     "output_type": "execute_result"
    }
   ],
   "source": [
    "crime_df['Date'] = crime_df['Date'].astype('object')\n",
    "crime_df['Date'] = pd.to_datetime(crime_df['Date'], format = '%Y-%m-%d %H:%M:%S')            # datatime() requires a specified format\n",
    "crime_df.Date.head()"
   ]
  },
  {
   "cell_type": "markdown",
   "metadata": {},
   "source": [
    "Let's check the changes made to the dataframe again:"
   ]
  },
  {
   "cell_type": "code",
   "execution_count": 10,
   "metadata": {},
   "outputs": [
    {
     "name": "stdout",
     "output_type": "stream",
     "text": [
      "<class 'pandas.core.frame.DataFrame'>\n",
      "RangeIndex: 172194 entries, 0 to 172193\n",
      "Data columns (total 8 columns):\n",
      "IncidentReportNumber    172194 non-null int64\n",
      "CrimeType               172194 non-null category\n",
      "Date                    172194 non-null datetime64[ns]\n",
      "Time                    172194 non-null int64\n",
      "LocationType            0 non-null float64\n",
      "Address                 172194 non-null object\n",
      "Longitude               171098 non-null float64\n",
      "Latitude                171098 non-null float64\n",
      "dtypes: category(1), datetime64[ns](1), float64(3), int64(2), object(1)\n",
      "memory usage: 9.5+ MB\n"
     ]
    }
   ],
   "source": [
    "crime_df.info()"
   ]
  },
  {
   "cell_type": "markdown",
   "metadata": {},
   "source": [
    "Ah, the dataset looks a lot cleaner. However, we can see that the LocationType column is completely empty, and the Longitude and Latitude columns have missing values. We will deal with missing values next."
   ]
  },
  {
   "cell_type": "markdown",
   "metadata": {},
   "source": [
    "### Handling missing values"
   ]
  },
  {
   "cell_type": "markdown",
   "metadata": {},
   "source": [
    "#### Detecting missing values:"
   ]
  },
  {
   "cell_type": "code",
   "execution_count": 11,
   "metadata": {},
   "outputs": [
    {
     "data": {
      "text/html": [
       "<div>\n",
       "<style>\n",
       "    .dataframe thead tr:only-child th {\n",
       "        text-align: right;\n",
       "    }\n",
       "\n",
       "    .dataframe thead th {\n",
       "        text-align: left;\n",
       "    }\n",
       "\n",
       "    .dataframe tbody tr th {\n",
       "        vertical-align: top;\n",
       "    }\n",
       "</style>\n",
       "<table border=\"1\" class=\"dataframe\">\n",
       "  <thead>\n",
       "    <tr style=\"text-align: right;\">\n",
       "      <th></th>\n",
       "      <th>Count</th>\n",
       "      <th>Percent</th>\n",
       "    </tr>\n",
       "  </thead>\n",
       "  <tbody>\n",
       "    <tr>\n",
       "      <th>LocationType</th>\n",
       "      <td>172194</td>\n",
       "      <td>100.0</td>\n",
       "    </tr>\n",
       "    <tr>\n",
       "      <th>Latitude</th>\n",
       "      <td>1096</td>\n",
       "      <td>0.6</td>\n",
       "    </tr>\n",
       "    <tr>\n",
       "      <th>Longitude</th>\n",
       "      <td>1096</td>\n",
       "      <td>0.6</td>\n",
       "    </tr>\n",
       "  </tbody>\n",
       "</table>\n",
       "</div>"
      ],
      "text/plain": [
       "               Count Percent\n",
       "LocationType  172194   100.0\n",
       "Latitude        1096     0.6\n",
       "Longitude       1096     0.6"
      ]
     },
     "execution_count": 11,
     "metadata": {},
     "output_type": "execute_result"
    }
   ],
   "source": [
    "# Detect columns with NaN values and them sort by ascending order\n",
    "miss_val = crime_df.isnull().sum().sort_values(ascending=False)\n",
    "\n",
    "# Create a NaN frequency table\n",
    "miss_val = pd.DataFrame(miss_val, columns=['Count'])\n",
    "miss_val['Percent'] = miss_val.Count.apply(lambda x : '{:.1f}'.format(float(x)/crime_df.shape[0] * 100)) \n",
    "miss_val = miss_val[miss_val.Count > 0]\n",
    "miss_val"
   ]
  },
  {
   "cell_type": "markdown",
   "metadata": {},
   "source": [
    "We can see that the LocationType column is completely empty. We will drop that column. The Latitude and Longitude columns are missing 0.6% (1096 rows) of their data. Since we will need the Longitude and Latitude columns to find the spread and location of top crimes in Austin using KDE plot and Google Maps, we will drop only those rows with missing values. Those reported incidents won't help us identify the locations of crimes anyway."
   ]
  },
  {
   "cell_type": "markdown",
   "metadata": {},
   "source": [
    "#### Removing the LocationType column:"
   ]
  },
  {
   "cell_type": "code",
   "execution_count": 12,
   "metadata": {
    "collapsed": true
   },
   "outputs": [],
   "source": [
    "crime_df.drop('LocationType', axis=1, inplace=True)    "
   ]
  },
  {
   "cell_type": "markdown",
   "metadata": {},
   "source": [
    "#### Removing the rows with missing values:"
   ]
  },
  {
   "cell_type": "code",
   "execution_count": 13,
   "metadata": {
    "collapsed": true
   },
   "outputs": [],
   "source": [
    "crime_df.dropna(subset=['Latitude', 'Longitude'], inplace=True)         "
   ]
  },
  {
   "cell_type": "markdown",
   "metadata": {},
   "source": [
    "Checing our new dataframe:"
   ]
  },
  {
   "cell_type": "code",
   "execution_count": 14,
   "metadata": {},
   "outputs": [
    {
     "name": "stdout",
     "output_type": "stream",
     "text": [
      "<class 'pandas.core.frame.DataFrame'>\n",
      "Int64Index: 171098 entries, 0 to 172193\n",
      "Data columns (total 7 columns):\n",
      "IncidentReportNumber    171098 non-null int64\n",
      "CrimeType               171098 non-null category\n",
      "Date                    171098 non-null datetime64[ns]\n",
      "Time                    171098 non-null int64\n",
      "Address                 171098 non-null object\n",
      "Longitude               171098 non-null float64\n",
      "Latitude                171098 non-null float64\n",
      "dtypes: category(1), datetime64[ns](1), float64(2), int64(2), object(1)\n",
      "memory usage: 9.5+ MB\n"
     ]
    }
   ],
   "source": [
    "crime_df.info()"
   ]
  },
  {
   "cell_type": "markdown",
   "metadata": {},
   "source": [
    "The new dataframe is much cleaner now. Since we will be plotting the lattitude and longitude on a KDE plot, we would want to check for outliers in those columns next. Extreme values will prevent our plots from showing up. "
   ]
  },
  {
   "cell_type": "markdown",
   "metadata": {},
   "source": [
    "Before we move on to handling outliers, let's take a moment to back up what we have done with the dataframe so far. "
   ]
  },
  {
   "cell_type": "code",
   "execution_count": 15,
   "metadata": {},
   "outputs": [
    {
     "data": {
      "text/html": [
       "<div>\n",
       "<style>\n",
       "    .dataframe thead tr:only-child th {\n",
       "        text-align: right;\n",
       "    }\n",
       "\n",
       "    .dataframe thead th {\n",
       "        text-align: left;\n",
       "    }\n",
       "\n",
       "    .dataframe tbody tr th {\n",
       "        vertical-align: top;\n",
       "    }\n",
       "</style>\n",
       "<table border=\"1\" class=\"dataframe\">\n",
       "  <thead>\n",
       "    <tr style=\"text-align: right;\">\n",
       "      <th></th>\n",
       "      <th>IncidentReportNumber</th>\n",
       "      <th>CrimeType</th>\n",
       "      <th>Date</th>\n",
       "      <th>Time</th>\n",
       "      <th>Address</th>\n",
       "      <th>Longitude</th>\n",
       "      <th>Latitude</th>\n",
       "    </tr>\n",
       "  </thead>\n",
       "  <tbody>\n",
       "    <tr>\n",
       "      <th>0</th>\n",
       "      <td>20175014269</td>\n",
       "      <td>BURGLARY OF VEHICLE</td>\n",
       "      <td>2017-04-06</td>\n",
       "      <td>1900</td>\n",
       "      <td>6934 E BEN WHITE BLVD SVRD WB</td>\n",
       "      <td>-97.703550</td>\n",
       "      <td>30.215663</td>\n",
       "    </tr>\n",
       "    <tr>\n",
       "      <th>1</th>\n",
       "      <td>2017970280</td>\n",
       "      <td>CHECK WELFARE</td>\n",
       "      <td>2017-04-07</td>\n",
       "      <td>441</td>\n",
       "      <td>6808 S IH 35 SVRD SB</td>\n",
       "      <td>-97.772963</td>\n",
       "      <td>30.187946</td>\n",
       "    </tr>\n",
       "    <tr>\n",
       "      <th>2</th>\n",
       "      <td>20175014277</td>\n",
       "      <td>CRASH/LEAVING THE SCENE</td>\n",
       "      <td>2017-04-06</td>\n",
       "      <td>1330</td>\n",
       "      <td>9414 PARKFIELD DR</td>\n",
       "      <td>-97.706266</td>\n",
       "      <td>30.367904</td>\n",
       "    </tr>\n",
       "    <tr>\n",
       "      <th>3</th>\n",
       "      <td>2017961396</td>\n",
       "      <td>ASSAULT WITH INJURY</td>\n",
       "      <td>2017-04-03</td>\n",
       "      <td>2200</td>\n",
       "      <td>5305 KING HENRY DR</td>\n",
       "      <td>-97.660276</td>\n",
       "      <td>30.288873</td>\n",
       "    </tr>\n",
       "    <tr>\n",
       "      <th>4</th>\n",
       "      <td>2017970325</td>\n",
       "      <td>BURGLARY NON RESIDENCE</td>\n",
       "      <td>2017-04-06</td>\n",
       "      <td>2030</td>\n",
       "      <td>2005 WHELESS LN</td>\n",
       "      <td>-97.687720</td>\n",
       "      <td>30.313561</td>\n",
       "    </tr>\n",
       "  </tbody>\n",
       "</table>\n",
       "</div>"
      ],
      "text/plain": [
       "   IncidentReportNumber                CrimeType       Date  Time  \\\n",
       "0           20175014269      BURGLARY OF VEHICLE 2017-04-06  1900   \n",
       "1            2017970280            CHECK WELFARE 2017-04-07   441   \n",
       "2           20175014277  CRASH/LEAVING THE SCENE 2017-04-06  1330   \n",
       "3            2017961396      ASSAULT WITH INJURY 2017-04-03  2200   \n",
       "4            2017970325   BURGLARY NON RESIDENCE 2017-04-06  2030   \n",
       "\n",
       "                         Address  Longitude   Latitude  \n",
       "0  6934 E BEN WHITE BLVD SVRD WB -97.703550  30.215663  \n",
       "1           6808 S IH 35 SVRD SB -97.772963  30.187946  \n",
       "2              9414 PARKFIELD DR -97.706266  30.367904  \n",
       "3             5305 KING HENRY DR -97.660276  30.288873  \n",
       "4                2005 WHELESS LN -97.687720  30.313561  "
      ]
     },
     "execution_count": 15,
     "metadata": {},
     "output_type": "execute_result"
    }
   ],
   "source": [
    "crime_df2 = crime_df.copy()\n",
    "crime_df2.head()"
   ]
  },
  {
   "cell_type": "markdown",
   "metadata": {},
   "source": [
    "### Handling outliers:"
   ]
  },
  {
   "cell_type": "markdown",
   "metadata": {},
   "source": [
    "We will use a boxplot to help us quickly detect outliers in the latitude and longitude columns.  \n",
    "\n",
    "**Detecting outliers:** "
   ]
  },
  {
   "cell_type": "code",
   "execution_count": 16,
   "metadata": {},
   "outputs": [
    {
     "data": {
      "image/png": "[encoded data removed]",
      "text/plain": [
       "<matplotlib.figure.Figure at 0x1206ca24eb8>"
      ]
     },
     "metadata": {},
     "output_type": "display_data"
    },
    {
     "data": {
      "image/png": "[encoded data removed]",
      "text/plain": [
       "<matplotlib.figure.Figure at 0x1206dda0710>"
      ]
     },
     "metadata": {},
     "output_type": "display_data"
    }
   ],
   "source": [
    "sns.set(style='darkgrid')\n",
    "lat = sns.boxplot(data=crime_df2['Latitude'])\n",
    "plt.xticks(rotation=90)\n",
    "plt.show()\n",
    "\n",
    "sns.set(style='darkgrid')\n",
    "g2 = sns.boxplot(data=crime_df2['Longitude'])\n",
    "plt.xticks(rotation=90)\n",
    "plt.show()"
   ]
  },
  {
   "cell_type": "markdown",
   "metadata": {},
   "source": [
    "The outliers in the first boxplot (Latitude) are relatively near centrality and should not impede the plotting of the KDEplot. On the other hand, the outliers in the second boxplot (Longitude) are much further away from centrality, and will cause our plot not to show up. Therefore, we should need remove them.  \n",
    "\n",
    "Let's check the number of outliers outside the Longitude threshold of -60:"
   ]
  },
  {
   "cell_type": "code",
   "execution_count": 17,
   "metadata": {},
   "outputs": [
    {
     "data": {
      "text/plain": [
       "5"
      ]
     },
     "execution_count": 17,
     "metadata": {},
     "output_type": "execute_result"
    }
   ],
   "source": [
    "len(crime_df2[crime_df2['Longitude'] >-60])"
   ]
  },
  {
   "cell_type": "markdown",
   "metadata": {},
   "source": [
    "#### Removing the outliers:"
   ]
  },
  {
   "cell_type": "code",
   "execution_count": 18,
   "metadata": {
    "collapsed": true
   },
   "outputs": [],
   "source": [
    "crime_df2.drop(crime_df2[crime_df2['Longitude'] >-80].index, inplace=True)"
   ]
  },
  {
   "cell_type": "markdown",
   "metadata": {},
   "source": [
    "Let's check the boxplot again:"
   ]
  },
  {
   "cell_type": "code",
   "execution_count": 19,
   "metadata": {},
   "outputs": [
    {
     "data": {
      "image/png": "[encoded data removed]",
      "text/plain": [
       "<matplotlib.figure.Figure at 0x1206de4ee48>"
      ]
     },
     "metadata": {},
     "output_type": "display_data"
    },
    {
     "data": {
      "image/png": "[encoded data removed]",
      "text/plain": [
       "<matplotlib.figure.Figure at 0x12071754898>"
      ]
     },
     "metadata": {},
     "output_type": "display_data"
    }
   ],
   "source": [
    "sns.set(style='darkgrid')\n",
    "g2 = sns.boxplot(data=crime_df2['Latitude'])\n",
    "plt.xticks(rotation=90)\n",
    "plt.show()\n",
    "\n",
    "sns.set(style='darkgrid')\n",
    "g2 = sns.boxplot(data=crime_df2['Longitude'])\n",
    "plt.xticks(rotation=90)\n",
    "plt.show()"
   ]
  },
  {
   "cell_type": "markdown",
   "metadata": {},
   "source": [
    "The boxplots looks so much better now. Let's check the summary statistics of the two columns:"
   ]
  },
  {
   "cell_type": "code",
   "execution_count": 20,
   "metadata": {},
   "outputs": [
    {
     "name": "stdout",
     "output_type": "stream",
     "text": [
      "Lat mean:  30.292051149125093\n",
      "Lat stdev:  0.07775532752800227\n",
      "Long mean:  -97.73425928871755\n",
      "Long stdev:  0.047954645059786284\n"
     ]
    }
   ],
   "source": [
    "print('Lat mean: ', crime_df2.Latitude.mean())\n",
    "print('Lat stdev: ', crime_df2.Latitude.std())\n",
    "print('Long mean: ', crime_df2.Longitude.mean())\n",
    "print('Long stdev: ', crime_df2.Longitude.std())"
   ]
  },
  {
   "cell_type": "code",
   "execution_count": 21,
   "metadata": {
    "collapsed": true
   },
   "outputs": [],
   "source": [
    "# Peek at the distributions\n",
    "#sns.distplot(crime_df2.Latitude);\n",
    "#plt.show()\n",
    "#sns.distplot(crime_df2.Longitude);\n",
    "#plt.show()"
   ]
  },
  {
   "cell_type": "markdown",
   "metadata": {},
   "source": [
    "Let's peek at the cleaned dataframe:"
   ]
  },
  {
   "cell_type": "code",
   "execution_count": 22,
   "metadata": {},
   "outputs": [
    {
     "data": {
      "text/html": [
       "<div>\n",
       "<style>\n",
       "    .dataframe thead tr:only-child th {\n",
       "        text-align: right;\n",
       "    }\n",
       "\n",
       "    .dataframe thead th {\n",
       "        text-align: left;\n",
       "    }\n",
       "\n",
       "    .dataframe tbody tr th {\n",
       "        vertical-align: top;\n",
       "    }\n",
       "</style>\n",
       "<table border=\"1\" class=\"dataframe\">\n",
       "  <thead>\n",
       "    <tr style=\"text-align: right;\">\n",
       "      <th></th>\n",
       "      <th>IncidentReportNumber</th>\n",
       "      <th>CrimeType</th>\n",
       "      <th>Date</th>\n",
       "      <th>Time</th>\n",
       "      <th>Address</th>\n",
       "      <th>Longitude</th>\n",
       "      <th>Latitude</th>\n",
       "    </tr>\n",
       "  </thead>\n",
       "  <tbody>\n",
       "    <tr>\n",
       "      <th>0</th>\n",
       "      <td>20175014269</td>\n",
       "      <td>BURGLARY OF VEHICLE</td>\n",
       "      <td>2017-04-06</td>\n",
       "      <td>1900</td>\n",
       "      <td>6934 E BEN WHITE BLVD SVRD WB</td>\n",
       "      <td>-97.703550</td>\n",
       "      <td>30.215663</td>\n",
       "    </tr>\n",
       "    <tr>\n",
       "      <th>1</th>\n",
       "      <td>2017970280</td>\n",
       "      <td>CHECK WELFARE</td>\n",
       "      <td>2017-04-07</td>\n",
       "      <td>441</td>\n",
       "      <td>6808 S IH 35 SVRD SB</td>\n",
       "      <td>-97.772963</td>\n",
       "      <td>30.187946</td>\n",
       "    </tr>\n",
       "    <tr>\n",
       "      <th>2</th>\n",
       "      <td>20175014277</td>\n",
       "      <td>CRASH/LEAVING THE SCENE</td>\n",
       "      <td>2017-04-06</td>\n",
       "      <td>1330</td>\n",
       "      <td>9414 PARKFIELD DR</td>\n",
       "      <td>-97.706266</td>\n",
       "      <td>30.367904</td>\n",
       "    </tr>\n",
       "    <tr>\n",
       "      <th>3</th>\n",
       "      <td>2017961396</td>\n",
       "      <td>ASSAULT WITH INJURY</td>\n",
       "      <td>2017-04-03</td>\n",
       "      <td>2200</td>\n",
       "      <td>5305 KING HENRY DR</td>\n",
       "      <td>-97.660276</td>\n",
       "      <td>30.288873</td>\n",
       "    </tr>\n",
       "    <tr>\n",
       "      <th>4</th>\n",
       "      <td>2017970325</td>\n",
       "      <td>BURGLARY NON RESIDENCE</td>\n",
       "      <td>2017-04-06</td>\n",
       "      <td>2030</td>\n",
       "      <td>2005 WHELESS LN</td>\n",
       "      <td>-97.687720</td>\n",
       "      <td>30.313561</td>\n",
       "    </tr>\n",
       "  </tbody>\n",
       "</table>\n",
       "</div>"
      ],
      "text/plain": [
       "   IncidentReportNumber                CrimeType       Date  Time  \\\n",
       "0           20175014269      BURGLARY OF VEHICLE 2017-04-06  1900   \n",
       "1            2017970280            CHECK WELFARE 2017-04-07   441   \n",
       "2           20175014277  CRASH/LEAVING THE SCENE 2017-04-06  1330   \n",
       "3            2017961396      ASSAULT WITH INJURY 2017-04-03  2200   \n",
       "4            2017970325   BURGLARY NON RESIDENCE 2017-04-06  2030   \n",
       "\n",
       "                         Address  Longitude   Latitude  \n",
       "0  6934 E BEN WHITE BLVD SVRD WB -97.703550  30.215663  \n",
       "1           6808 S IH 35 SVRD SB -97.772963  30.187946  \n",
       "2              9414 PARKFIELD DR -97.706266  30.367904  \n",
       "3             5305 KING HENRY DR -97.660276  30.288873  \n",
       "4                2005 WHELESS LN -97.687720  30.313561  "
      ]
     },
     "execution_count": 22,
     "metadata": {},
     "output_type": "execute_result"
    }
   ],
   "source": [
    "crime_df.head()"
   ]
  },
  {
   "cell_type": "code",
   "execution_count": 23,
   "metadata": {},
   "outputs": [
    {
     "data": {
      "text/plain": [
       "(171098, 7)"
      ]
     },
     "execution_count": 23,
     "metadata": {},
     "output_type": "execute_result"
    }
   ],
   "source": [
    "crime_df.shape    # checks the size of the cleaned df"
   ]
  },
  {
   "cell_type": "markdown",
   "metadata": {},
   "source": [
    "The dataframe is good to go. Next, we will save it to a file so we can later do data analysis and get insights on crimes in the city of Austin."
   ]
  },
  {
   "cell_type": "markdown",
   "metadata": {},
   "source": [
    "# Save cleaned dataframe to a CSV file on disk"
   ]
  },
  {
   "cell_type": "code",
   "execution_count": 24,
   "metadata": {
    "collapsed": true
   },
   "outputs": [],
   "source": [
    "# Write the cleaned dataframe to a CSV file\n",
    "crime_df.to_csv('austin_crime_clean.csv', sep =  ',', index = False)"
   ]
  },
  {
   "cell_type": "markdown",
   "metadata": {},
   "source": [
    "The dataset is now saved to the same directory as this notebook. "
   ]
  },
  {
   "cell_type": "markdown",
   "metadata": {},
   "source": [
    "END"
   ]
  }
 ],
 "metadata": {
  "kernelspec": {
   "display_name": "Python 3",
   "language": "python",
   "name": "python3"
  },
  "language_info": {
   "codemirror_mode": {
    "name": "ipython",
    "version": 3
   },
   "file_extension": ".py",
   "mimetype": "text/x-python",
   "name": "python",
   "nbconvert_exporter": "python",
   "pygments_lexer": "ipython3",
   "version": "3.6.0"
  }
 },
 "nbformat": 4,
 "nbformat_minor": 2
}
